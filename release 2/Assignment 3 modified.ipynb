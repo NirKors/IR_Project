{
 "cells": [
  {
   "cell_type": "markdown",
   "id": "a00e032c",
   "metadata": {
    "id": "a00e032c",
    "pycharm": {
     "name": "#%% md\n"
    }
   },
   "source": [
    "***Important*** DO NOT CLEAR THE OUTPUT OF THIS NOTEBOOK AFTER EXECUTION!!!"
   ]
  },
  {
   "cell_type": "code",
   "execution_count": 1,
   "id": "5ac36d3a",
   "metadata": {
    "id": "5ac36d3a",
    "nbgrader": {
     "grade": false,
     "grade_id": "cell-Worker_Count",
     "locked": true,
     "schema_version": 3,
     "solution": false,
     "task": false
    },
    "outputId": "cf88b954-f39a-412a-d87e-660833e735b6",
    "pycharm": {
     "name": "#%%\n"
    }
   },
   "outputs": [
    {
     "name": "stdout",
     "output_type": "stream",
     "text": [
      "NAME          PLATFORM  WORKER_COUNT  PREEMPTIBLE_WORKER_COUNT  STATUS   ZONE           SCHEDULED_DELETE\r\n",
      "cluster-8977  GCE       2                                       RUNNING  us-central1-a\r\n"
     ]
    }
   ],
   "source": [
    "# if the following command generates an error, you probably didn't enable \n",
    "# the cluster security option \"Allow API access to all Google Cloud services\"\n",
    "# under Manage Security → Project Access when setting up the cluster\n",
    "!gcloud dataproc clusters list --region us-central1"
   ]
  },
  {
   "cell_type": "markdown",
   "id": "51cf86c5",
   "metadata": {
    "id": "51cf86c5",
    "pycharm": {
     "name": "#%% md\n"
    }
   },
   "source": [
    "# Imports & Setup"
   ]
  },
  {
   "cell_type": "code",
   "execution_count": 2,
   "id": "bf199e6a",
   "metadata": {
    "id": "bf199e6a",
    "nbgrader": {
     "grade": false,
     "grade_id": "cell-Setup",
     "locked": true,
     "schema_version": 3,
     "solution": false,
     "task": false
    },
    "outputId": "fc0e315d-21e9-411d-d69c-5b97e4e5d629",
    "pycharm": {
     "name": "#%%\n"
    }
   },
   "outputs": [
    {
     "name": "stdout",
     "output_type": "stream",
     "text": [
      "\u001B[33mWARNING: Running pip as the 'root' user can result in broken permissions and conflicting behaviour with the system package manager. It is recommended to use a virtual environment instead: https://pip.pypa.io/warnings/venv\u001B[0m\u001B[33m\n",
      "\u001B[0m\u001B[33mWARNING: Running pip as the 'root' user can result in broken permissions and conflicting behaviour with the system package manager. It is recommended to use a virtual environment instead: https://pip.pypa.io/warnings/venv\u001B[0m\u001B[33m\n",
      "\u001B[0m"
     ]
    }
   ],
   "source": [
    "!pip install -q google-cloud-storage==1.43.0\n",
    "!pip install -q graphframes"
   ]
  },
  {
   "cell_type": "code",
   "execution_count": 3,
   "id": "d8f56ecd",
   "metadata": {
    "id": "d8f56ecd",
    "nbgrader": {
     "grade": false,
     "grade_id": "cell-Imports",
     "locked": true,
     "schema_version": 3,
     "solution": false,
     "task": false
    },
    "outputId": "a24aa24b-aa75-4823-83ca-1d7deef0f0de",
    "pycharm": {
     "name": "#%%\n"
    }
   },
   "outputs": [
    {
     "name": "stderr",
     "output_type": "stream",
     "text": [
      "[nltk_data] Downloading package stopwords to /root/nltk_data...\n",
      "[nltk_data]   Unzipping corpora/stopwords.zip.\n"
     ]
    },
    {
     "data": {
      "text/plain": [
       "True"
      ]
     },
     "execution_count": 3,
     "metadata": {},
     "output_type": "execute_result"
    }
   ],
   "source": [
    "import pyspark\n",
    "import sys\n",
    "from collections import Counter, OrderedDict, defaultdict\n",
    "import itertools\n",
    "from itertools import islice, count, groupby\n",
    "import pandas as pd\n",
    "import os\n",
    "import re\n",
    "from operator import itemgetter\n",
    "import nltk\n",
    "from nltk.stem.porter import *\n",
    "from nltk.corpus import stopwords\n",
    "from time import time\n",
    "from pathlib import Path\n",
    "import pickle\n",
    "import pandas as pd\n",
    "from google.cloud import storage\n",
    "\n",
    "import hashlib\n",
    "def _hash(s):\n",
    "    return hashlib.blake2b(bytes(s, encoding='utf8'), digest_size=5).hexdigest()\n",
    "\n",
    "nltk.download('stopwords')"
   ]
  },
  {
   "cell_type": "code",
   "execution_count": 4,
   "id": "38a897f2",
   "metadata": {
    "id": "38a897f2",
    "nbgrader": {
     "grade": false,
     "grade_id": "cell-jar",
     "locked": true,
     "schema_version": 3,
     "solution": false,
     "task": false
    },
    "outputId": "8f93a7ec-71e0-49c1-fc81-9af385849a90",
    "pycharm": {
     "name": "#%%\n"
    }
   },
   "outputs": [
    {
     "name": "stdout",
     "output_type": "stream",
     "text": [
      "-rw-r--r-- 1 root root 247882 Jan 14 11:16 /usr/lib/spark/jars/graphframes-0.8.2-spark3.1-s_2.12.jar\r\n"
     ]
    }
   ],
   "source": [
    "# if nothing prints here you forgot to include the initialization script when starting the cluster\n",
    "!ls -l /usr/lib/spark/jars/graph*"
   ]
  },
  {
   "cell_type": "code",
   "execution_count": 5,
   "id": "47900073",
   "metadata": {
    "id": "47900073",
    "nbgrader": {
     "grade": false,
     "grade_id": "cell-pyspark-import",
     "locked": true,
     "schema_version": 3,
     "solution": false,
     "task": false
    },
    "pycharm": {
     "name": "#%%\n"
    }
   },
   "outputs": [],
   "source": [
    "from pyspark.sql import *\n",
    "from pyspark.sql.functions import *\n",
    "from pyspark import SparkContext, SparkConf, SparkFiles\n",
    "from pyspark.sql import SQLContext\n",
    "from graphframes import *"
   ]
  },
  {
   "cell_type": "code",
   "execution_count": 6,
   "id": "72bed56b",
   "metadata": {
    "id": "72bed56b",
    "nbgrader": {
     "grade": false,
     "grade_id": "cell-spark-version",
     "locked": true,
     "schema_version": 3,
     "solution": false,
     "task": false
    },
    "outputId": "07b4e22b-a252-42fb-fe46-d9050e4e7ca8",
    "pycharm": {
     "name": "#%%\n"
    },
    "scrolled": true
   },
   "outputs": [
    {
     "data": {
      "text/html": [
       "\n",
       "            <div>\n",
       "                <p><b>SparkSession - hive</b></p>\n",
       "                \n",
       "        <div>\n",
       "            <p><b>SparkContext</b></p>\n",
       "\n",
       "            <p><a href=\"http://cluster-8977-m.c.directed-sun-370715.internal:43249\">Spark UI</a></p>\n",
       "\n",
       "            <dl>\n",
       "              <dt>Version</dt>\n",
       "                <dd><code>v3.1.3</code></dd>\n",
       "              <dt>Master</dt>\n",
       "                <dd><code>yarn</code></dd>\n",
       "              <dt>AppName</dt>\n",
       "                <dd><code>PySparkShell</code></dd>\n",
       "            </dl>\n",
       "        </div>\n",
       "        \n",
       "            </div>\n",
       "        "
      ],
      "text/plain": [
       "<pyspark.sql.session.SparkSession at 0x7ff8f4a814f0>"
      ]
     },
     "execution_count": 6,
     "metadata": {},
     "output_type": "execute_result"
    }
   ],
   "source": [
    "spark"
   ]
  },
  {
   "cell_type": "code",
   "execution_count": 7,
   "id": "980e62a5",
   "metadata": {
    "id": "980e62a5",
    "nbgrader": {
     "grade": false,
     "grade_id": "cell-bucket_name",
     "locked": false,
     "schema_version": 3,
     "solution": true,
     "task": false
    },
    "pycharm": {
     "name": "#%%\n"
    }
   },
   "outputs": [],
   "source": [
    "# Put your bucket name below and make sure you can access it without an error\n",
    "bucket_name = 'training_index'\n",
    "full_path = f\"gs://{bucket_name}/\"\n",
    "paths=[]\n",
    "\n",
    "client = storage.Client()\n",
    "blobs = client.list_blobs(bucket_name)\n",
    "for b in blobs:\n",
    "    if b.name.endswith(\".parquet\"):\n",
    "        paths.append(full_path+b.name)"
   ]
  },
  {
   "cell_type": "markdown",
   "id": "cac891c2",
   "metadata": {
    "id": "cac891c2",
    "pycharm": {
     "name": "#%% md\n"
    }
   },
   "source": [
    "***GCP setup is complete!*** If you got here without any errors you've earned 10 out of the 35 points of this part."
   ]
  },
  {
   "cell_type": "markdown",
   "id": "582c3f5e",
   "metadata": {
    "id": "582c3f5e",
    "pycharm": {
     "name": "#%% md\n"
    }
   },
   "source": [
    "# Building an inverted index"
   ]
  },
  {
   "cell_type": "markdown",
   "id": "481f2044",
   "metadata": {
    "id": "481f2044",
    "pycharm": {
     "name": "#%% md\n"
    }
   },
   "source": [
    "Here, we read the entire corpus to an rdd, directly from Google Storage Bucket and use your code from Colab to construct an inverted index."
   ]
  },
  {
   "cell_type": "code",
   "execution_count": 8,
   "id": "270dee68",
   "metadata": {
    "pycharm": {
     "name": "#%%\n"
    }
   },
   "outputs": [
    {
     "name": "stdout",
     "output_type": "stream",
     "text": [
      "gs://training_index/multistream16_part3_preprocessed.parquet\n"
     ]
    },
    {
     "name": "stderr",
     "output_type": "stream",
     "text": [
      "                                                                                \r"
     ]
    }
   ],
   "source": [
    "print(*paths)\n",
    "parquetFile = spark.read.parquet(*paths)\n",
    "# doc_text_pairs = parquetFile.select(\"text\", \"id\").rdd\n",
    "# doc_title_pairs = parquetFile.select(\"title\", \"id\").rdd\n",
    "# doc_anchor_text_pairs = parquetFile.select(\"anchor_text\", \"id\").rdd;"
   ]
  },
  {
   "cell_type": "markdown",
   "id": "789b262a",
   "metadata": {
    "pycharm": {
     "name": "#%% md\n"
    }
   },
   "source": [
    "We will count the number of pages to make sure we are looking at the entire corpus. The number of pages should be more than 6M"
   ]
  },
  {
   "cell_type": "code",
   "execution_count": 9,
   "id": "a962f4d7",
   "metadata": {
    "pycharm": {
     "name": "#%%\n"
    }
   },
   "outputs": [
    {
     "name": "stderr",
     "output_type": "stream",
     "text": [
      "                                                                                \r"
     ]
    },
    {
     "data": {
      "text/plain": [
       "8807"
      ]
     },
     "execution_count": 9,
     "metadata": {},
     "output_type": "execute_result"
    }
   ],
   "source": [
    "# Count number of wiki pages\n",
    "parquetFile.count()"
   ]
  },
  {
   "cell_type": "markdown",
   "id": "baa3b78d",
   "metadata": {
    "pycharm": {
     "name": "#%% md\n"
    }
   },
   "source": [
    "Let's import the inverted index module. Note that you need to use the staff-provided version called `inverted_index_gcp.py`, which contains helper functions to writing and reading the posting files similar to the Colab version, but with writing done to a Google Cloud Storage bucket."
   ]
  },
  {
   "cell_type": "code",
   "execution_count": 10,
   "id": "42827f41",
   "metadata": {
    "pycharm": {
     "name": "#%%\n"
    }
   },
   "outputs": [
    {
     "name": "stdout",
     "output_type": "stream",
     "text": [
      "inverted_index_gcp.py\r\n"
     ]
    }
   ],
   "source": [
    "# if nothing prints here you forgot to upload the file inverted_index_gcp.py to the home dir\n",
    "%cd -q /home/dataproc\n",
    "!ls inverted_index_gcp.py"
   ]
  },
  {
   "cell_type": "code",
   "execution_count": 11,
   "id": "d8938bb2",
   "metadata": {
    "pycharm": {
     "name": "#%%\n"
    }
   },
   "outputs": [],
   "source": [
    "# adding our python module to the cluster\n",
    "sc.addFile(\"/home/dataproc/inverted_index_gcp.py\")\n",
    "sys.path.insert(0,SparkFiles.getRootDirectory())"
   ]
  },
  {
   "cell_type": "code",
   "execution_count": 12,
   "id": "0d170ce5",
   "metadata": {
    "pycharm": {
     "name": "#%%\n"
    }
   },
   "outputs": [],
   "source": [
    "from inverted_index_gcp import InvertedIndex\n",
    "# Don't forget to change the location_name in inverted_index_gcp.\n",
    "\n",
    "# working_on = \"body_indices\"\n",
    "# index = \"body_index\"\n",
    "\n",
    "# working_on = \"title_index\"\n",
    "# index = \"title_index\"\n",
    "\n",
    "# working_on = \"anchor_index\"\n",
    "# index = \"anchor_index\""
   ]
  },
  {
   "cell_type": "markdown",
   "id": "7e53a0c9",
   "metadata": {
    "pycharm": {
     "name": "#%% md\n"
    }
   },
   "source": [
    "**YOUR TASK (10 POINTS)**: Use your implementation of `word_count`, `reduce_word_counts`, `calculate_df`, and `partition_postings_and_write` functions from Colab to build an inverted index for all of English Wikipedia in under 2 hours.\n",
    "\n",
    "A few notes: \n",
    "1. The number of corpus stopwords below is a bit bigger than the colab version since we are working on the whole corpus and not just on one file.\n",
    "2. You need to slightly modify your implementation of  `partition_postings_and_write` because the signature of `InvertedIndex.write_a_posting_list` has changed and now includes an additional argument called `bucket_name` for the target bucket. See the module for more details.\n",
    "3. You are not allowed to change any of the code not coming from Colab. "
   ]
  },
  {
   "cell_type": "code",
   "execution_count": 13,
   "id": "a8ce744e",
   "metadata": {
    "pycharm": {
     "name": "#%%\n"
    }
   },
   "outputs": [],
   "source": [
    "english_stopwords = frozenset(stopwords.words('english'))\n",
    "corpus_stopwords = [\"category\", \"references\", \"also\", \"external\", \"links\", \n",
    "                    \"may\", \"first\", \"see\", \"history\", \"people\", \"one\", \"two\", \n",
    "                    \"part\", \"thumb\", \"including\", \"second\", \"following\", \n",
    "                    \"many\", \"however\", \"would\", \"became\"]\n",
    "\n",
    "all_stopwords = english_stopwords.union(corpus_stopwords)\n",
    "RE_WORD = re.compile(r\"\"\"[\\#\\@\\w](['\\-]?\\w){2,24}\"\"\", re.UNICODE)\n",
    "\n",
    "NUM_BUCKETS = 124\n",
    "def token2bucket_id(token):\n",
    "  return int(_hash(token),16) % NUM_BUCKETS\n",
    "\n",
    "# PLACE YOUR CODE HERE\n",
    "\n",
    "def word_count(text, id):\n",
    "  tokens = [token.group() for token in RE_WORD.finditer(text.lower())]\n",
    "  counts = {}\n",
    "  for i in tokens:\n",
    "    if i not in all_stopwords:\n",
    "      counts[i] = counts.get(i, 0) + 1\n",
    "  listt = []\n",
    "  for key, value in list(counts.items()):\n",
    "    listt.append((key, (id, value)))\n",
    "  return listt\n",
    "\n",
    "def reduce_word_counts(unsorted_pl):\n",
    "  return sorted(unsorted_pl)\n",
    "\n",
    "def calculate_df(postings):\n",
    "  return postings.map(lambda x: (x[0], len(x[1])))\n",
    "\n",
    "def partition_postings_and_write(postings):\n",
    "    postings = postings.map(lambda x: (token2bucket_id(x[0]), x)).groupByKey().map(lambda x: InvertedIndex.write_a_posting_list(x, bucket_name))\n",
    "    return postings"
   ]
  },
  {
   "cell_type": "code",
   "execution_count": null,
   "id": "b93f6088",
   "metadata": {
    "pycharm": {
     "name": "#%%\n"
    }
   },
   "outputs": [],
   "source": []
  },
  {
   "cell_type": "code",
   "execution_count": null,
   "id": "90b6111b",
   "metadata": {
    "pycharm": {
     "name": "#%%\n"
    }
   },
   "outputs": [],
   "source": [
    "# word counts map\n",
    "word_counts = doc_text_pairs.flatMap(lambda x: word_count(x[0], x[1]))\n",
    "postings = word_counts.groupByKey().mapValues(reduce_word_counts)\n",
    "# filtering postings and calculate df\n",
    "postings_filtered = postings.filter(lambda x: len(x[1])>50)\n",
    "w2df = calculate_df(postings_filtered)\n",
    "w2df_dict = w2df.collectAsMap()\n",
    "# partition posting lists and write out\n",
    "_ = partition_postings_and_write(postings_filtered).collect()"
   ]
  },
  {
   "cell_type": "code",
   "execution_count": null,
   "id": "5956eb91",
   "metadata": {
    "pycharm": {
     "name": "#%%\n"
    }
   },
   "outputs": [],
   "source": [
    "# collect all posting lists locations into one super-set\n",
    "super_posting_locs = defaultdict(list)\n",
    "print(working_on)\n",
    "for blob in client.list_blobs(f\"{bucket_name}\", prefix=working_on):\n",
    "    if not blob.name.endswith(\"pickle\"):\n",
    "        continue\n",
    "    with blob.open(\"rb\") as f:\n",
    "        posting_locs = pickle.load(f)\n",
    "        for k, v in posting_locs.items():\n",
    "          super_posting_locs[k].extend(v)"
   ]
  },
  {
   "cell_type": "markdown",
   "id": "03d3069b",
   "metadata": {
    "pycharm": {
     "name": "#%% md\n"
    }
   },
   "source": [
    "Putting it all together"
   ]
  },
  {
   "cell_type": "code",
   "execution_count": null,
   "id": "373d9a22",
   "metadata": {
    "pycharm": {
     "name": "#%%\n"
    }
   },
   "outputs": [],
   "source": [
    "# Create inverted index instance\n",
    "inverted = InvertedIndex(iname=working_on)"
   ]
  },
  {
   "cell_type": "code",
   "execution_count": null,
   "id": "4bbf9a46",
   "metadata": {
    "pycharm": {
     "name": "#%%\n"
    }
   },
   "outputs": [],
   "source": [
    "# Adding the posting locations dictionary to the inverted index\n",
    "inverted.posting_locs = super_posting_locs\n",
    "# Add the token - df dictionary to the inverted index\n",
    "inverted.df = w2df_dict\n",
    "# write the global stats out\n",
    "inverted.write_index('.', 'index')\n",
    "# upload to gs\n",
    "index_src = \"index.pkl\"\n",
    "index_dst = f'gs://{bucket_name}/{working_on}/{index_src}'\n",
    "!gsutil cp $index_src $index_dst"
   ]
  },
  {
   "cell_type": "code",
   "execution_count": null,
   "id": "454ed22c",
   "metadata": {
    "pycharm": {
     "name": "#%%\n"
    }
   },
   "outputs": [],
   "source": [
    "!gsutil ls -lh $index_dst"
   ]
  },
  {
   "cell_type": "markdown",
   "id": "16e796ce",
   "metadata": {
    "pycharm": {
     "name": "#%% md\n"
    }
   },
   "source": [
    "# PageRank"
   ]
  },
  {
   "cell_type": "markdown",
   "id": "3db14bb5",
   "metadata": {
    "pycharm": {
     "name": "#%% md\n"
    }
   },
   "source": [
    "**YOUR TASK (10 POINTS):** Compute PageRank for the entire English Wikipedia. Use your implementation for `generate_graph` function from Colab below."
   ]
  },
  {
   "cell_type": "code",
   "execution_count": null,
   "id": "e1daee56",
   "metadata": {
    "pycharm": {
     "name": "#%%\n"
    }
   },
   "outputs": [],
   "source": [
    "# Put your `generate_graph` function here\n",
    "def generate_graph(pages):\n",
    "  edges = pages.flatMap(lambda x: ([(x[0], row[0]) for row in x[1]])).distinct()\n",
    "  vertices = edges.flatMap(lambda x: (Row(x[0]), Row(x[1]))).distinct()\n",
    "\n",
    "  return edges, vertices"
   ]
  },
  {
   "cell_type": "code",
   "execution_count": null,
   "id": "c9502563",
   "metadata": {
    "pycharm": {
     "name": "#%%\n"
    }
   },
   "outputs": [],
   "source": []
  },
  {
   "cell_type": "code",
   "execution_count": null,
   "id": "b78dde46",
   "metadata": {
    "pycharm": {
     "name": "#%%\n"
    }
   },
   "outputs": [],
   "source": [
    "# pages_links = spark.read.parquet(\"gs://wikidata_preprocessed/*\").select(\"id\", \"anchor_text\").rdd\n",
    "\n",
    "pages_links = spark.read.parquet(*paths).select(\"id\", \"anchor_text\").rdd\n",
    "\n",
    "\n",
    "# construct the graph \n",
    "edges, vertices = generate_graph(pages_links)\n",
    "# compute PageRank\n",
    "edgesDF = edges.toDF(['src', 'dst']).repartition(124, 'src')\n",
    "verticesDF = vertices.toDF(['id']).repartition(124, 'id')\n",
    "g = GraphFrame(verticesDF, edgesDF)\n",
    "pr_results = g.pageRank(resetProbability=0.15, maxIter=6)\n",
    "pr = pr_results.vertices.select(\"id\", \"pagerank\")\n",
    "pr = pr.sort(col('pagerank').desc())\n",
    "pr.repartition(1).write.csv(f'gs://{bucket_name}/pr', compression=\"gzip\")\n",
    "pr.show()"
   ]
  },
  {
   "cell_type": "markdown",
   "id": "9c68c1da",
   "metadata": {
    "pycharm": {
     "name": "#%% md\n"
    }
   },
   "source": [
    "# Reporting"
   ]
  },
  {
   "cell_type": "markdown",
   "id": "53ce6e5b",
   "metadata": {
    "pycharm": {
     "name": "#%% md\n"
    }
   },
   "source": [
    "# Reporting"
   ]
  },
  {
   "cell_type": "markdown",
   "id": "6378bd19",
   "metadata": {
    "pycharm": {
     "name": "#%% md\n"
    }
   },
   "source": [
    "**YOUR TASK (5 points):** execute and complete the following lines to complete \n",
    "the reporting requirements for assignment #3. "
   ]
  },
  {
   "cell_type": "code",
   "execution_count": null,
   "id": "75d0c17d",
   "metadata": {
    "pycharm": {
     "name": "#%%\n"
    }
   },
   "outputs": [],
   "source": [
    "# size of input data\n",
    "!gsutil du -sh \"gs://wikidata_preprocessed/\""
   ]
  },
  {
   "cell_type": "code",
   "execution_count": null,
   "id": "a4326d72",
   "metadata": {
    "pycharm": {
     "name": "#%%\n"
    }
   },
   "outputs": [],
   "source": [
    "# size of index data\n",
    "index_dst = f'gs://{bucket_name}/postings_gcp/'\n",
    "!gsutil du -sh \"$index_dst\""
   ]
  },
  {
   "cell_type": "code",
   "execution_count": null,
   "id": "99fdeae4",
   "metadata": {
    "pycharm": {
     "name": "#%%\n"
    }
   },
   "outputs": [],
   "source": [
    "# How many USD credits did you use in GCP during the course of this assignment?\n",
    "cost = 2.46\n",
    "print(f'I used {cost} USD credit during the course of this assignment')"
   ]
  },
  {
   "cell_type": "markdown",
   "id": "b8efa526",
   "metadata": {
    "pycharm": {
     "name": "#%% md\n"
    }
   },
   "source": [
    "**Bonus (10 points)** if you implement PageRank in pure PySpark, i.e. without using the GraphFrames package, AND manage to complete 10 iterations of your algorithm on the entire English Wikipedia in less than an hour. \n"
   ]
  },
  {
   "cell_type": "code",
   "execution_count": null,
   "id": "d983c950",
   "metadata": {
    "pycharm": {
     "name": "#%%\n"
    }
   },
   "outputs": [],
   "source": [
    "#If you have decided to do the bonus task - please copy the code here \n",
    "\n",
    "bonus_flag = False # Turn flag on (True) if you have implemented this part\n",
    "\n",
    "t_start = time()\n",
    "\n",
    "# PLACE YOUR CODE HERE\n",
    "\n",
    "pr_time_Bonus = time() - t_start\n"
   ]
  },
  {
   "cell_type": "code",
   "execution_count": null,
   "id": "cbafb728",
   "metadata": {
    "pycharm": {
     "name": "#%%\n"
    }
   },
   "outputs": [],
   "source": [
    "# Note:test that PageRank computaion took less than 1 hour\n",
    "assert pr_time_Bonus < 60*60 and bonus_flag"
   ]
  },
  {
   "cell_type": "markdown",
   "id": "ef61f398",
   "metadata": {
    "pycharm": {
     "name": "#%% md\n"
    }
   },
   "source": [
    "# This is my shit"
   ]
  },
  {
   "cell_type": "code",
   "execution_count": 14,
   "id": "fa0d5b25",
   "metadata": {
    "pycharm": {
     "name": "#%%\n"
    }
   },
   "outputs": [],
   "source": [
    "# Don't forget to change the location_name in inverted_index_gcp.\n",
    "\n",
    "# working_on = \"body_indices\"\n",
    "# index = \"body_index\"\n",
    "\n",
    "# working_on = \"title_index\"\n",
    "# index = \"title_index\"\n",
    "\n",
    "# working_on = \"anchor_index\"\n",
    "# index = \"anchor_index\""
   ]
  },
  {
   "cell_type": "code",
   "execution_count": 61,
   "id": "9642a090",
   "metadata": {
    "pycharm": {
     "name": "#%%\n"
    }
   },
   "outputs": [],
   "source": [
    "doc_text_pairs = parquetFile.select(\"text\", \"id\").rdd\n",
    "doc_title_pairs = parquetFile.select(\"title\", \"id\").rdd\n",
    "doc_anchor_text_pairs = parquetFile.select(\"id\",\"anchor_text\").rdd.flatMap(lambda x: x[1]).reduceByKey(lambda x,y: x+\" \"+y).map(lambda x: (x[1],x[0]))"
   ]
  },
  {
   "cell_type": "code",
   "execution_count": null,
   "id": "9f0517eb",
   "metadata": {
    "pycharm": {
     "name": "#%%\n"
    }
   },
   "outputs": [],
   "source": [
    "doc_text_pairs.toDF().show()\n",
    "doc_title_pairs.toDF().show()\n",
    "doc_anchor_text_pairs.toDF().show()"
   ]
  },
  {
   "cell_type": "markdown",
   "id": "940ab09d",
   "metadata": {
    "pycharm": {
     "name": "#%% md\n"
    }
   },
   "source": [
    "### Body:"
   ]
  },
  {
   "cell_type": "code",
   "execution_count": null,
   "id": "a54b9f1c",
   "metadata": {
    "pycharm": {
     "name": "#%%\n"
    }
   },
   "outputs": [],
   "source": [
    "working_on = \"body_index\"\n",
    "index = \"body_index\"\n",
    "# Don't forget to change the location_name in inverted_index_gcp.\n",
    "%cd -q /home/dataproc\n",
    "!ls inverted_index_gcp.py\n",
    "from inverted_index_gcp import InvertedIndex"
   ]
  },
  {
   "cell_type": "code",
   "execution_count": null,
   "id": "33f16aab",
   "metadata": {
    "pycharm": {
     "name": "#%%\n"
    }
   },
   "outputs": [],
   "source": [
    "# word counts map\n",
    "word_counts = doc_text_pairs.flatMap(lambda x: word_count(x[0], x[1]))\n",
    "postings = word_counts.groupByKey().mapValues(reduce_word_counts)\n",
    "# filtering postings and calculate df\n",
    "postings_filtered = postings.filter(lambda x: len(x[1])>50)\n",
    "w2df = calculate_df(postings_filtered)\n",
    "w2df_dict = w2df.collectAsMap()\n",
    "# partition posting lists and write out\n",
    "_ = partition_postings_and_write(postings_filtered).collect()\n",
    "# collect all posting lists locations into one super-set\n",
    "super_posting_locs = defaultdict(list)\n",
    "for blob in client.list_blobs(bucket_name, prefix=working_on):\n",
    "  if not blob.name.endswith(\"pickle\"):\n",
    "    continue\n",
    "  with blob.open(\"rb\") as f:\n",
    "    posting_locs = pickle.load(f)\n",
    "    for k, v in posting_locs.items():\n",
    "      super_posting_locs[k].extend(v)"
   ]
  },
  {
   "cell_type": "code",
   "execution_count": null,
   "id": "ea33e3cf",
   "metadata": {
    "pycharm": {
     "name": "#%%\n"
    }
   },
   "outputs": [],
   "source": [
    "# Create inverted index instance\n",
    "inverted = InvertedIndex(iname=index)\n",
    "# Adding the posting locations dictionary to the inverted index\n",
    "inverted.posting_locs = super_posting_locs\n",
    "# Add the token - df dictionary to the inverted index\n",
    "inverted.df = w2df_dict\n",
    "# write the global stats out\n",
    "inverted.write_index('.', 'index')\n",
    "# upload to gs\n",
    "index_src = \"index.pkl\"\n",
    "index_dst = f'gs://{bucket_name}/{working_on}/{index_src}'\n",
    "!gsutil cp $index_src $index_dst"
   ]
  },
  {
   "cell_type": "code",
   "execution_count": null,
   "id": "aff9804e",
   "metadata": {
    "pycharm": {
     "name": "#%%\n"
    }
   },
   "outputs": [],
   "source": [
    "print(f\"len(inverted.df): {len(inverted.df)}\\n\"\n",
    "      f\"len(inverted.posting_locs): {len(inverted.posting_locs)}\\n\")"
   ]
  },
  {
   "cell_type": "markdown",
   "id": "5437557a",
   "metadata": {
    "pycharm": {
     "name": "#%% md\n"
    }
   },
   "source": [
    "### Title:"
   ]
  },
  {
   "cell_type": "code",
   "execution_count": 19,
   "id": "6b8b9584",
   "metadata": {
    "pycharm": {
     "name": "#%%\n"
    }
   },
   "outputs": [
    {
     "name": "stdout",
     "output_type": "stream",
     "text": [
      "inverted_index_gcp.py\r\n"
     ]
    }
   ],
   "source": [
    "working_on = \"title_index\"\n",
    "index = \"title_index\"\n",
    "# Don't forget to change the location_name in inverted_index_gcp.\n",
    "%cd -q /home/dataproc\n",
    "!ls inverted_index_gcp.py\n",
    "from inverted_index_gcp import InvertedIndex"
   ]
  },
  {
   "cell_type": "code",
   "execution_count": null,
   "outputs": [],
   "source": [
    "# word counts map\n",
    "word_counts = doc_title_pairs.flatMap(lambda x: word_count(x[0], x[1]))\n",
    "postings = word_counts.groupByKey().mapValues(reduce_word_counts)\n",
    "# filtering postings and calculate df\n",
    "postings_filtered = postings.filter(lambda x: x)\n",
    "w2df = calculate_df(postings)\n",
    "w2df_dict = w2df.collectAsMap()\n",
    "# partition posting lists and write out\n",
    "_ = partition_postings_and_write(postings_filtered).collect()\n",
    "# collect all posting lists locations into one super-set\n",
    "super_posting_locs = defaultdict(list)\n",
    "for blob in client.list_blobs(bucket_name, prefix=working_on):\n",
    "  if not blob.name.endswith(\"pickle\"):\n",
    "    continue\n",
    "  with blob.open(\"rb\") as f:\n",
    "    posting_locs = pickle.load(f)\n",
    "    for k, v in posting_locs.items():\n",
    "      super_posting_locs[k].extend(v)"
   ],
   "metadata": {
    "collapsed": false,
    "pycharm": {
     "name": "#%%\n"
    }
   }
  },
  {
   "cell_type": "code",
   "execution_count": null,
   "outputs": [],
   "source": [
    "# Create inverted index instance\n",
    "inverted = InvertedIndex(iname=index)\n",
    "# Adding the posting locations dictionary to the inverted index\n",
    "inverted.posting_locs = super_posting_locs\n",
    "# Add the token - df dictionary to the inverted index\n",
    "inverted.df = w2df_dict\n",
    "# write the global stats out\n",
    "inverted.write_index('.', 'index')\n",
    "# upload to gs\n",
    "index_src = \"index.pkl\"\n",
    "index_dst = f'gs://{bucket_name}/{working_on}/{index_src}'\n",
    "!gsutil cp $index_src $index_dst"
   ],
   "metadata": {
    "collapsed": false,
    "pycharm": {
     "name": "#%%\n"
    }
   }
  },
  {
   "cell_type": "code",
   "execution_count": null,
   "outputs": [],
   "source": [
    "print(f\"len(inverted.df): {len(inverted.df)}\\n\"\n",
    "      f\"len(inverted.posting_locs): {len(inverted.posting_locs)}\\n\")"
   ],
   "metadata": {
    "collapsed": false,
    "pycharm": {
     "name": "#%%\n"
    }
   }
  },
  {
   "cell_type": "markdown",
   "source": [
    "### Anchor:"
   ],
   "metadata": {
    "collapsed": false,
    "pycharm": {
     "name": "#%% md\n"
    }
   }
  },
  {
   "cell_type": "code",
   "execution_count": null,
   "outputs": [],
   "source": [
    "working_on = \"anchor_index\"\n",
    "index = \"anchor_index\"\n",
    "# Don't forget to change the location_name in inverted_index_gcp.\n",
    "%cd -q /home/dataproc\n",
    "!ls inverted_index_gcp.py\n",
    "from inverted_index_gcp import InvertedIndex"
   ],
   "metadata": {
    "collapsed": false,
    "pycharm": {
     "name": "#%%\n"
    }
   }
  },
  {
   "cell_type": "code",
   "execution_count": null,
   "outputs": [],
   "source": [
    "# word counts map\n",
    "word_counts = doc_anchor_text_pairs.flatMap(lambda x: word_count(x[0], x[1]))\n",
    "postings = word_counts.groupByKey().mapValues(reduce_word_counts)\n",
    "# filtering postings and calculate df\n",
    "postings_filtered = postings.filter(lambda x: x)\n",
    "w2df = calculate_df(postings_filtered)\n",
    "w2df_dict = w2df.collectAsMap()\n",
    "# partition posting lists and write out\n",
    "_ = partition_postings_and_write(postings_filtered).collect()\n",
    "# collect all posting lists locations into one super-set\n",
    "super_posting_locs = defaultdict(list)\n",
    "for blob in client.list_blobs(bucket_name, prefix=working_on):\n",
    "  if not blob.name.endswith(\"pickle\"):\n",
    "    continue\n",
    "  with blob.open(\"rb\") as f:\n",
    "    posting_locs = pickle.load(f)\n",
    "    for k, v in posting_locs.items():\n",
    "      super_posting_locs[k].extend(v)"
   ],
   "metadata": {
    "collapsed": false,
    "pycharm": {
     "name": "#%%\n"
    }
   }
  },
  {
   "cell_type": "code",
   "execution_count": null,
   "outputs": [],
   "source": [
    "# Create inverted index instance\n",
    "inverted = InvertedIndex(iname=index)\n",
    "# Adding the posting locations dictionary to the inverted index\n",
    "inverted.posting_locs = super_posting_locs\n",
    "# Add the token - df dictionary to the inverted index\n",
    "inverted.df = w2df_dict\n",
    "# write the global stats out\n",
    "inverted.write_index('.', 'index')\n",
    "# upload to gs\n",
    "index_src = \"index.pkl\"\n",
    "index_dst = f'gs://{bucket_name}/{working_on}/{index_src}'\n",
    "!gsutil cp $index_src $index_dst"
   ],
   "metadata": {
    "collapsed": false,
    "pycharm": {
     "name": "#%%\n"
    }
   }
  },
  {
   "cell_type": "code",
   "execution_count": null,
   "outputs": [],
   "source": [
    "print(f\"len(inverted.df): {len(inverted.df)}\\n\"\n",
    "      f\"len(inverted.posting_locs): {len(inverted.posting_locs)}\\n\")"
   ],
   "metadata": {
    "collapsed": false,
    "pycharm": {
     "name": "#%%\n"
    }
   }
  },
  {
   "cell_type": "markdown",
   "source": [
    "## Pages"
   ],
   "metadata": {
    "collapsed": false,
    "pycharm": {
     "name": "#%% md\n"
    }
   }
  },
  {
   "cell_type": "code",
   "execution_count": null,
   "outputs": [],
   "source": [
    "def tokenized(text):\n",
    "    return [token.group() for token in RE_WORD.finditer(text.lower())]"
   ],
   "metadata": {
    "collapsed": false,
    "pycharm": {
     "name": "#%%\n"
    }
   }
  },
  {
   "cell_type": "code",
   "execution_count": null,
   "outputs": [],
   "source": [
    "pages = parquetFile.select(\"id\", \"title\", \"text\").rdd\n",
    "processed = pages.map(lambda x: (x[0], (x[1], tokenized(x[2]))))  # id, (title, token(text))\n",
    "counted = processed.mapValues(lambda x: (x[0], len(x[1]), Counter(x[1]).most_common(1)[0][1] if len(x[1]) > 0 else 1)).collectAsMap()"
   ],
   "metadata": {
    "collapsed": false,
    "pycharm": {
     "name": "#%%\n"
    }
   }
  },
  {
   "cell_type": "code",
   "execution_count": null,
   "outputs": [],
   "source": [
    "with open('processed.pickle', 'wb') as handle:\n",
    "    pickle.dump(counted, handle, protocol=pickle.HIGHEST_PROTOCOL)"
   ],
   "metadata": {
    "collapsed": false,
    "pycharm": {
     "name": "#%%\n"
    }
   }
  },
  {
   "cell_type": "code",
   "execution_count": null,
   "outputs": [],
   "source": [
    "index_src = \"processed.pickle\"\n",
    "index_dst = f'gs://training_index/processed/processed.pickle'\n",
    "!gsutil cp $index_src $index_dst"
   ],
   "metadata": {
    "collapsed": false,
    "pycharm": {
     "name": "#%%\n"
    }
   }
  },
  {
   "cell_type": "markdown",
   "source": [
    "## Page Rank"
   ],
   "metadata": {
    "collapsed": false,
    "pycharm": {
     "name": "#%% md\n"
    }
   }
  },
  {
   "cell_type": "code",
   "execution_count": null,
   "outputs": [],
   "source": [
    "pages_links = spark.read.parquet(*paths).select(\"id\", \"anchor_text\").rdd"
   ],
   "metadata": {
    "collapsed": false,
    "pycharm": {
     "name": "#%%\n"
    }
   }
  },
  {
   "cell_type": "code",
   "execution_count": null,
   "outputs": [],
   "source": [
    "edges, vertices = generate_graph(pages_links)\n",
    "# compute PageRank\n",
    "edgesDF = edges.toDF(['src', 'dst']).repartition(124, 'src')\n",
    "verticesDF = vertices.toDF(['id']).repartition(124, 'id')\n",
    "g = GraphFrame(verticesDF, edgesDF)\n",
    "pr_results = g.pageRank(resetProbability=0.15, maxIter=6)\n",
    "pr = pr_results.vertices.select(\"id\", \"pagerank\")\n",
    "pr = pr.sort(col('pagerank').desc())"
   ],
   "metadata": {
    "collapsed": false,
    "pycharm": {
     "name": "#%%\n"
    }
   }
  },
  {
   "cell_type": "code",
   "execution_count": null,
   "outputs": [],
   "source": [
    "pr = pr.toPandas()\n",
    "pr.show()"
   ],
   "metadata": {
    "collapsed": false,
    "pycharm": {
     "name": "#%%\n"
    }
   }
  },
  {
   "cell_type": "code",
   "execution_count": null,
   "outputs": [],
   "source": [
    "pr = pr.collectAsMap()"
   ],
   "metadata": {
    "collapsed": false,
    "pycharm": {
     "name": "#%%\n"
    }
   }
  },
  {
   "cell_type": "code",
   "execution_count": null,
   "outputs": [],
   "source": [
    "index_src = \"pr_results.pickle\"\n",
    "index_dst = f'gs://training_index/processed/pr_results.pickle'\n",
    "!gsutil cp $index_src $index_dst"
   ],
   "metadata": {
    "collapsed": false,
    "pycharm": {
     "name": "#%%\n"
    }
   }
  }
 ],
 "metadata": {
  "celltoolbar": "Create Assignment",
  "colab": {
   "provenance": [],
   "toc_visible": true
  },
  "kernelspec": {
   "display_name": "PySpark",
   "language": "python",
   "name": "pyspark"
  },
  "language_info": {
   "codemirror_mode": {
    "name": "ipython",
    "version": 3
   },
   "file_extension": ".py",
   "mimetype": "text/x-python",
   "name": "python",
   "nbconvert_exporter": "python",
   "pygments_lexer": "ipython3",
   "version": "3.8.15"
  }
 },
 "nbformat": 4,
 "nbformat_minor": 5
}